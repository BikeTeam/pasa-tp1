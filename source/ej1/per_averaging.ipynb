{
 "cells": [
  {
   "cell_type": "code",
   "execution_count": null,
   "source": [
    "import numpy as np"
   ],
   "outputs": [],
   "metadata": {}
  },
  {
   "cell_type": "code",
   "execution_count": null,
   "source": [
    "def periodogram_averaging(data, K, L):\r\n",
    "    #Check parameters\r\n",
    "    data_array = np.array(data)\r\n",
    "    N = len(data_array)\r\n",
    "\r\n",
    "    #Create periodograms\r\n",
    "\r\n",
    "    #Average periodograms"
   ],
   "outputs": [],
   "metadata": {}
  }
 ],
 "metadata": {
  "orig_nbformat": 4,
  "language_info": {
   "name": "python"
  }
 },
 "nbformat": 4,
 "nbformat_minor": 2
}